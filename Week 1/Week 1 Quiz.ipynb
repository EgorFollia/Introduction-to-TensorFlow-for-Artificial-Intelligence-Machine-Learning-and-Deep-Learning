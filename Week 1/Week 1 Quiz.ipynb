{
 "cells": [
  {
   "cell_type": "markdown",
   "metadata": {},
   "source": [
    "# Question 1\n",
    "\n",
    "The diagram for traditional programming had Rules and Data In, but what came out?\n",
    "\n",
    "\n",
    "- Answers"
   ]
  },
  {
   "cell_type": "markdown",
   "metadata": {},
   "source": [
    "# Question 2\n",
    "The diagram for Machine Learning had Answers and Data In, but what came out?\n",
    "\n",
    "- Rules"
   ]
  },
  {
   "cell_type": "markdown",
   "metadata": {},
   "source": [
    "# Question 3\n",
    "When I tell a computer what the data represents (i.e. this data is for walking, this data is for running), what is that process called?\n",
    "\n",
    "- Labelling the Data"
   ]
  },
  {
   "cell_type": "markdown",
   "metadata": {},
   "source": [
    "# Question 4\n",
    "What is a Dense?\n",
    "\n",
    "- A layer of connected neurons"
   ]
  },
  {
   "cell_type": "markdown",
   "metadata": {},
   "source": [
    "# Question 5\n",
    "What does a Loss function do?\n",
    "\n",
    "- Measures how good the current ‘guess’ is"
   ]
  },
  {
   "cell_type": "markdown",
   "metadata": {},
   "source": [
    "# Question 6\n",
    "What does the optimizer do?\n",
    "\n",
    "- Generates a new and improved guess"
   ]
  },
  {
   "cell_type": "markdown",
   "metadata": {},
   "source": [
    "# Question 7\n",
    "What does the optimizer do?\n",
    "\n",
    "- Generates a new and improved guess"
   ]
  },
  {
   "cell_type": "markdown",
   "metadata": {},
   "source": [
    "# Question 8 \n",
    "What does model.fit do?\n",
    "\n",
    "- It trains the neural network to fit one set of values to another"
   ]
  }
 ],
 "metadata": {
  "kernelspec": {
   "display_name": "Python 3",
   "language": "python",
   "name": "python3"
  },
  "language_info": {
   "codemirror_mode": {
    "name": "ipython",
    "version": 3
   },
   "file_extension": ".py",
   "mimetype": "text/x-python",
   "name": "python",
   "nbconvert_exporter": "python",
   "pygments_lexer": "ipython3",
   "version": "3.6.8"
  }
 },
 "nbformat": 4,
 "nbformat_minor": 2
}
